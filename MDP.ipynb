{
  "nbformat": 4,
  "nbformat_minor": 0,
  "metadata": {
    "colab": {
      "provenance": [],
      "authorship_tag": "ABX9TyNdeovLomi0bYy45N4dEXRE",
      "include_colab_link": true
    },
    "kernelspec": {
      "name": "python3",
      "display_name": "Python 3"
    },
    "language_info": {
      "name": "python"
    }
  },
  "cells": [
    {
      "cell_type": "markdown",
      "metadata": {
        "id": "view-in-github",
        "colab_type": "text"
      },
      "source": [
        "<a href=\"https://colab.research.google.com/github/syma-afsha/Complete_Reinforcement_Learning/blob/main/MDP.ipynb\" target=\"_parent\"><img src=\"https://colab.research.google.com/assets/colab-badge.svg\" alt=\"Open In Colab\"/></a>"
      ]
    },
    {
      "cell_type": "markdown",
      "source": [
        "Define a Markov Decision Process (MDP) with\n",
        "𝑁 states (blocks) and two possible actions for moving between states:\n",
        "\n",
        "\n",
        "\"walk\": Moves the state forward by 1 (deterministic, costs\n",
        "−\n",
        "1\n",
        "−1).\n",
        "\n",
        "\"tram\": Attempts to double the state (50% chance of success, 50% chance of failure, costs\n",
        "−\n",
        "2\n",
        "−2).\n",
        "\n",
        "The goal is to find the optimal policy and state values to minimize the total penalty (maximize rewards) starting from state 1 and ending at the terminal state\n",
        "𝑁."
      ],
      "metadata": {
        "id": "Xdt5SM2FE4O1"
      }
    },
    {
      "cell_type": "code",
      "execution_count": 20,
      "metadata": {
        "colab": {
          "base_uri": "https://localhost:8080/"
        },
        "id": "N6uHI0nstsog",
        "outputId": "d17065ce-9aa5-4332-8ce0-993b9c07f85b"
      },
      "outputs": [
        {
          "output_type": "stream",
          "name": "stdout",
          "text": [
            "Converged in 1 iterations.\n",
            "State: 1, Optimal Policy: walk, Optimal Value: -1.00\n",
            "State: 2, Optimal Policy: walk, Optimal Value: -1.00\n",
            "State: 3, Optimal Policy: walk, Optimal Value: -1.00\n",
            "State: 4, Optimal Policy: walk, Optimal Value: -1.00\n",
            "State: 5, Optimal Policy: walk, Optimal Value: -1.00\n",
            "State: 6, Optimal Policy: walk, Optimal Value: -1.00\n",
            "State: 7, Optimal Policy: walk, Optimal Value: -1.00\n",
            "State: 8, Optimal Policy: walk, Optimal Value: -1.00\n",
            "State: 9, Optimal Policy: walk, Optimal Value: -1.00\n",
            "State: 10, Optimal Policy: None, Optimal Value: 0.00\n"
          ]
        }
      ],
      "source": [
        "class MDP(object):\n",
        "    # Initialize the MDP with N number of states (blocks)\n",
        "    def __init__(self, N):\n",
        "        self.N = N  # Number of blocks (states)\n",
        "\n",
        "    # Define the start state (always starts at state 1)\n",
        "    def StartState(self):\n",
        "        return 1\n",
        "\n",
        "    # Check if the given state is the terminal state (goal state)\n",
        "    def isEnd(self, state):\n",
        "        return state == self.N\n",
        "\n",
        "    # Define possible actions for a given state\n",
        "    def Actions(self, state):\n",
        "        result = []\n",
        "        # If walking to the next state is valid, add \"walk\" action\n",
        "        if state + 1 <= self.N:\n",
        "            result.append(\"walk\")\n",
        "        # If using the tram to double the state is valid, add \"tram\" action\n",
        "        if state * 2 <= self.N:\n",
        "            result.append(\"tram\")\n",
        "        return result\n",
        "\n",
        "    # Define transition probabilities, rewards, and next states for each action\n",
        "    def TransitionProb(self, state, action):\n",
        "        result = []\n",
        "        if action == \"walk\":\n",
        "            # \"walk\" always transitions to state+1 with probability 1 and a reward of -1\n",
        "            result.append((state + 1, 1, -1))\n",
        "        if action == \"tram\":  # action == \"tram\"\n",
        "            # \"tram\" has a 50% chance to double the state and a 50% chance to fail\n",
        "            result.append((state * 2, 0.5, -2))  # Successful tram\n",
        "            result.append((state, 0.5, -2))  # Failed tram (stay in the same state)\n",
        "        return result\n",
        "\n",
        "    # Define the discount factor (γ), which reduces the value of future rewards\n",
        "    def discount(self):\n",
        "        return 0.8\n",
        "\n",
        "    # Return a list of all possible states (1 to N)\n",
        "    def states(self):\n",
        "        return range(1, self.N + 1)\n",
        "\n",
        "# Perform Value Iteration to compute optimal state values and policy\n",
        "def ValueIteration(mdp, epsilon=1e-10):\n",
        "    # Initialize state values (V) to 0 for all states\n",
        "    V = {state: 0 for state in mdp.states()}\n",
        "\n",
        "    # Function to compute Q-value for a given state and action\n",
        "    def Q(state, action):\n",
        "        # Q(s, a) = Σ (probability * (reward + γ * V(new state)))\n",
        "        return sum(prob * (reward + mdp.discount() * V[newState])\n",
        "                   for newState, prob, reward in mdp.TransitionProb(state, action))\n",
        "\n",
        "    iteration = 0\n",
        "    while True:\n",
        "        delta = 0  # Track the maximum change in state values\n",
        "        newV = V\n",
        "\n",
        "        for state in mdp.states():\n",
        "            if mdp.isEnd(state):\n",
        "                # Terminal state has a value of 0\n",
        "                newV[state] = 0\n",
        "            else:\n",
        "                # Update state value as the maximum Q-value across all actions\n",
        "                newV[state] = max(Q(state, action) for action in mdp.Actions(state))\n",
        "\n",
        "            # Update delta to track the maximum value change\n",
        "            delta = max(delta, abs(newV[state] - V[state]))\n",
        "\n",
        "        V = newV  # Update the value function\n",
        "        iteration += 1\n",
        "\n",
        "        # Check for convergence\n",
        "        if delta < epsilon:\n",
        "            break\n",
        "\n",
        "    # Compute the optimal policy based on the final value function\n",
        "    policy = {}\n",
        "    for state in mdp.states():\n",
        "        if mdp.isEnd(state):\n",
        "            # Terminal state has no action\n",
        "            policy[state] = None\n",
        "        else:\n",
        "            # Optimal action is the one with the highest Q-value\n",
        "            policy[state] = max((Q(state, action), action) for action in mdp.Actions(state))[1]\n",
        "\n",
        "    # Print the final results\n",
        "    print(f\"Converged in {iteration} iterations.\")\n",
        "    for state in mdp.states():\n",
        "        print(f\"State: {state}, Optimal Policy: {policy[state]}, Optimal Value: {V[state]:.2f}\")\n",
        "\n",
        "# Create an MDP with 10 states (blocks)\n",
        "mdp = MDP(N=10)\n",
        "ValueIteration(mdp)\n"
      ]
    }
  ]
}